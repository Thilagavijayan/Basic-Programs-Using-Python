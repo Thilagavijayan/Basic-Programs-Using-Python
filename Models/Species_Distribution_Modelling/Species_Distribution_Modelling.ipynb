{
  "cells": [
    {
      "cell_type": "markdown",
      "metadata": {
        "colab_type": "text",
        "id": "view-in-github"
      },
      "source": [
        "<a href=\"https://colab.research.google.com/github/Thilagavijayan/Species_Distribution_Modelling/blob/main/Species_Distribution_Modelling.ipynb\" target=\"_parent\"><img src=\"https://colab.research.google.com/assets/colab-badge.svg\" alt=\"Open In Colab\"/></a>"
      ]
    },
    {
      "cell_type": "code",
      "execution_count": 8,
      "metadata": {
        "id": "cCLWyxkmmjAc"
      },
      "outputs": [],
      "source": [
        "from time import time\n",
        "\n",
        "import numpy as np\n",
        "import matplotlib.pyplot as plt\n",
        "\n",
        "from sklearn.utils import Bunch\n",
        "from sklearn.datasets import fetch_species_distributions\n",
        "from sklearn import svm, metrics"
      ]
    },
    {
      "cell_type": "code",
      "execution_count": 9,
      "metadata": {
        "id": "Mlg74nPCm2Md"
      },
      "outputs": [],
      "source": [
        "try:\n",
        "    from mpl_toolkits.basemap import Basemap\n",
        "\n",
        "    basemap = True\n",
        "except ImportError:\n",
        "    basemap = False"
      ]
    },
    {
      "cell_type": "code",
      "execution_count": 10,
      "metadata": {
        "id": "V9F914xJr9PO"
      },
      "outputs": [],
      "source": [
        "def construct_grids(batch):\n",
        "    \"\"\"Construct the map grid from the batch object\n",
        "\n",
        "    Parameters\n",
        "    ----------\n",
        "    batch : Batch object\n",
        "        The object returned by :func:`fetch_species_distributions`\n",
        "\n",
        "    Returns\n",
        "    -------\n",
        "    (xgrid, ygrid) : 1-D arrays\n",
        "        The grid corresponding to the values in batch.coverages\n",
        "    \"\"\"\n",
        "    # x,y coordinates for corner cells\n",
        "    xmin = batch.x_left_lower_corner + batch.grid_size\n",
        "    xmax = xmin + (batch.Nx * batch.grid_size)\n",
        "    ymin = batch.y_left_lower_corner + batch.grid_size\n",
        "    ymax = ymin + (batch.Ny * batch.grid_size)\n",
        "\n",
        "    # x coordinates of the grid cells\n",
        "    xgrid = np.arange(xmin, xmax, batch.grid_size)\n",
        "    # y coordinates of the grid cells\n",
        "    ygrid = np.arange(ymin, ymax, batch.grid_size)\n",
        "\n",
        "    return (xgrid, ygrid)"
      ]
    },
    {
      "cell_type": "code",
      "execution_count": 11,
      "metadata": {
        "id": "gyuz_XresIt1"
      },
      "outputs": [],
      "source": [
        "def create_species(species_name, train, test, coverages, xgrid, ygrid):\n",
        "    \"\"\"Create a bunch with information about a particular organism\n",
        "\n",
        "    This will use the test/train record arrays to extract the\n",
        "    data specific to the given species name.\n",
        "    \"\"\"\n",
        "    bunch = Bunch(name=\" \".join(species_name.split(\"_\")[:2]))\n",
        "    species_name = species_name.encode(\"ascii\")\n",
        "    points = dict(test=test, train=train)\n",
        "\n",
        "    for label, pts in points.items():\n",
        "        # choose points associated with the desired species\n",
        "        pts = pts[pts[\"species\"] == species_name]\n",
        "        bunch[\"pts_%s\" % label] = pts\n",
        "\n",
        "        # determine coverage values for each of the training & testing points\n",
        "        ix = np.searchsorted(xgrid, pts[\"dd long\"])\n",
        "        iy = np.searchsorted(ygrid, pts[\"dd lat\"])\n",
        "        bunch[\"cov_%s\" % label] = coverages[:, -iy, ix].T\n",
        "\n",
        "    return bunch"
      ]
    },
    {
      "cell_type": "code",
      "execution_count": 12,
      "metadata": {
        "colab": {
          "base_uri": "https://localhost:8080/",
          "height": 961
        },
        "id": "1ND0odJxsPRI",
        "outputId": "4be56beb-a1b4-44f8-f638-35511af16d06"
      },
      "outputs": [
        {
          "name": "stdout",
          "output_type": "stream",
          "text": [
            "Note: when more than one species are provided, only the first one will be used\n",
            "________________________________________________________________________________\n",
            "Modeling distribution of species Brown throated sloth\n",
            " - fit OneClassSVM ... \n",
            "done.\n",
            " - plot coastlines from coverage\n",
            " - predict species distribution\n",
            "\n",
            " Area under the ROC curve : 0.868443\n",
            "\n",
            "time elapsed: 5.28s\n"
          ]
        },
        {
          "data": {
            "image/png": "[encoded data removed]",
            "text/plain": [
              "<Figure size 432x288 with 2 Axes>"
            ]
          },
          "metadata": {
            "needs_background": "light"
          },
          "output_type": "display_data"
        }
      ],
      "source": [
        "def plot_species_distribution(\n",
        "    species=(\"bradypus_variegatus_0\", \"microryzomys_minutus_0\")\n",
        "):\n",
        "    \"\"\"\n",
        "    Plot the species distribution.\n",
        "    \"\"\"\n",
        "    if len(species) > 1:\n",
        "        print(\n",
        "            \"Note: when more than one species are provided,\"\n",
        "            \" only the first one will be used\"\n",
        "        )\n",
        "\n",
        "    t0 = time()\n",
        "\n",
        "    # Load the compressed data\n",
        "    data = fetch_species_distributions()\n",
        "\n",
        "    # Set up the data grid\n",
        "    xgrid, ygrid = construct_grids(data)\n",
        "\n",
        "    # The grid in x,y coordinates\n",
        "    X, Y = np.meshgrid(xgrid, ygrid[::-1])\n",
        "\n",
        "    # create a bunch for a species\n",
        "    BV_bunch = create_species(\n",
        "        species[0], data.train, data.test, data.coverages, xgrid, ygrid\n",
        "    )\n",
        "\n",
        "    # Evaluation of Background Points\n",
        "    np.random.seed(13)\n",
        "    background_points = np.c_[\n",
        "        np.random.randint(low=0, high=data.Ny, size=10000),\n",
        "        np.random.randint(low=0, high=data.Nx, size=10000),\n",
        "    ].T\n",
        "\n",
        "    # We'll make use of the fact that coverages[6] has measurements at all\n",
        "    # land points.  This will help us decide between land and water.\n",
        "    land_reference = data.coverages[6]\n",
        "\n",
        "    # Fit, predict, and plot for each species.\n",
        "    for i, species in enumerate([BV_bunch]):\n",
        "        print(\"_\" * 80)\n",
        "        print(\"Modeling distribution of species Brown throated sloth\")\n",
        "\n",
        "        # Standardize features\n",
        "        mean = species.cov_train.mean(axis=0)\n",
        "        std = species.cov_train.std(axis=0)\n",
        "        train_cover_std = (species.cov_train - mean) / std\n",
        "\n",
        "        # Fit OneClassSVM\n",
        "        print(\" - fit OneClassSVM ... \")\n",
        "        clf = svm.OneClassSVM(nu=0.1, kernel=\"rbf\", gamma=0.5)\n",
        "        clf.fit(train_cover_std)\n",
        "        print(\"done.\")\n",
        "\n",
        "        # Plot map of South America\n",
        "        plt.subplot(1, 2, i + 1)\n",
        "        if basemap:\n",
        "            print(\" - plot coastlines using basemap\")\n",
        "            m = Basemap(\n",
        "                projection='cyl',\n",
        "                llcrnrlat=Y.min(),\n",
        "                urcrnrlat=Y.max(),\n",
        "                llcrnrlon=X.min(),\n",
        "                urcrnrlon=X.max(),\n",
        "                resolution=\"c\",\n",
        "            )\n",
        "            m.drawcoastlines()\n",
        "            m.drawcountries()\n",
        "        else:\n",
        "            print(\" - plot coastlines from coverage\")\n",
        "            plt.contour(\n",
        "                X, Y, land_reference, levels=[-9998], colors=\"k\", linestyles=\"solid\"\n",
        "            )\n",
        "            plt.xticks([])\n",
        "            plt.yticks([])\n",
        "\n",
        "        print(\" - predict species distribution\")\n",
        "\n",
        "        # Predict species distribution using the training data\n",
        "        Z = np.ones((data.Ny, data.Nx), dtype=np.float64)\n",
        "\n",
        "        # Predit the land points.\n",
        "        idx = np.where(land_reference > -9999)\n",
        "        coverages_land = data.coverages[:, idx[0], idx[1]].T\n",
        "\n",
        "        pred = clf.decision_function((coverages_land - mean) / std)\n",
        "        Z *= pred.min()\n",
        "        Z[idx[0], idx[1]] = pred\n",
        "\n",
        "        levels = np.linspace(Z.min(), Z.max(), 25)\n",
        "        Z[land_reference == -9999] = -9999\n",
        "\n",
        "        # plot outline of the prediction\n",
        "        plt.contourf(X, Y, Z, levels=levels, cmap=plt.cm.Greens)\n",
        "        plt.colorbar(format=\"%.2f\")\n",
        "        plt.title(\"Brown Throated Sloth\")\n",
        "        plt.axis(\"equal\")\n",
        "\n",
        "        # Compute AUC based on background points\n",
        "        pred_background = Z[background_points[0], background_points[1]]\n",
        "        pred_test = clf.decision_function((species.cov_test - mean) / std)\n",
        "        scores = np.r_[pred_test, pred_background]\n",
        "        y = np.r_[np.ones(pred_test.shape), np.zeros(pred_background.shape)]\n",
        "        fpr, tpr, thresholds = metrics.roc_curve(y, scores)\n",
        "        roc_auc = metrics.auc(fpr, tpr)\n",
        "        plt.text(-35, -70, \"AUC: %.3f\" % roc_auc, ha=\"right\")\n",
        "        print(\"\\n Area under the ROC curve : %f\" % roc_auc)\n",
        "\n",
        "    print(\"\\ntime elapsed: %.2fs\" % (time() - t0))\n",
        "\n",
        "\n",
        "plot_species_distribution()\n",
        "plt.show()\n"
      ]
    }
  ],
  "metadata": {
    "colab": {
      "authorship_tag": "ABX9TyOuiwhajF92/iEjEvSB5W/i",
      "include_colab_link": true,
      "provenance": []
    },
    "kernelspec": {
      "display_name": "Python 3.10.4 64-bit",
      "language": "python",
      "name": "python3"
    },
    "language_info": {
      "codemirror_mode": {
        "name": "ipython",
        "version": 3
      },
      "file_extension": ".py",
      "mimetype": "text/x-python",
      "name": "python",
      "nbconvert_exporter": "python",
      "pygments_lexer": "ipython3",
      "version": "3.10.4"
    },
    "vscode": {
      "interpreter": {
        "hash": "d07c568c779254e5cac6c3a8736a5d50775e0c4369087e007d6c63bc840985ed"
      }
    }
  },
  "nbformat": 4,
  "nbformat_minor": 0
}
