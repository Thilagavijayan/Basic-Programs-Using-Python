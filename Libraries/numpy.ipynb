{
 "cells": [
  {
   "cell_type": "markdown",
   "metadata": {},
   "source": [
    "#Numpy\n",
    "NumPy (Numerical Python) is an open source Python library which supports Mulidimensional array and matrix datastructure."
   ]
  },
  {
   "cell_type": "code",
   "execution_count": 72,
   "metadata": {},
   "outputs": [],
   "source": [
    "import numpy as np\n",
    "#importing numpy "
   ]
  },
  {
   "cell_type": "markdown",
   "metadata": {},
   "source": [
    "##Creating One Dimensional array"
   ]
  },
  {
   "cell_type": "code",
   "execution_count": 73,
   "metadata": {},
   "outputs": [
    {
     "name": "stdout",
     "output_type": "stream",
     "text": [
      "Given Array is [1 2 5 4]\n",
      "Order of the matrix is (4,)\n"
     ]
    }
   ],
   "source": [
    "n1 = np.array([1,2,5,4]) # Creating an array\n",
    "print(\"Given Array is {}\".format(n1))\n",
    "print(\"Order of the matrix is {}\".format(n1.shape)) # returns order of the matrix\n"
   ]
  },
  {
   "cell_type": "markdown",
   "metadata": {},
   "source": [
    "##Creating Two Dimensional Array "
   ]
  },
  {
   "cell_type": "code",
   "execution_count": 74,
   "metadata": {},
   "outputs": [
    {
     "name": "stdout",
     "output_type": "stream",
     "text": [
      "Given Array is [[1 6]\n",
      " [8 4]]\n",
      "Order of the matrix is (2, 2)\n"
     ]
    }
   ],
   "source": [
    "n2 = np.array([[1,6],[8,4]]) # Creating an array\n",
    "print(\"Given Array is {}\".format(n2))\n",
    "print(\"Order of the matrix is {}\".format(n2.shape)) # returns order of the matrix"
   ]
  },
  {
   "cell_type": "markdown",
   "metadata": {},
   "source": [
    "##Inspecting an Array"
   ]
  },
  {
   "cell_type": "code",
   "execution_count": 75,
   "metadata": {},
   "outputs": [
    {
     "name": "stdout",
     "output_type": "stream",
     "text": [
      "(4,)\n",
      "2\n",
      "4\n",
      "1\n",
      "int32\n",
      "int32\n",
      "[1 2 5 4]\n"
     ]
    }
   ],
   "source": [
    "print(n1.shape) #Array dimension\n",
    "print(len(n2)) #Length of array\n",
    "print(n1.size) #Number of Array elements\n",
    "print(n1.ndim) #Number of Array dimensions\n",
    "print(n1.dtype) #Datatype of Array\n",
    "print(n1.dtype.name)#Name of datatype\n",
    "print(n1.astype(int)) #Convert an array to a different type"
   ]
  },
  {
   "cell_type": "markdown",
   "metadata": {},
   "source": [
    "##Arithmetic Operations"
   ]
  },
  {
   "cell_type": "code",
   "execution_count": 92,
   "metadata": {},
   "outputs": [
    {
     "name": "stdout",
     "output_type": "stream",
     "text": [
      "Sum : [ 6  8 12 12]\n",
      "Sub : [4 4 2 4]\n",
      "Division : [5.  3.  1.4 2. ]\n",
      "Multiply : [ 5 12 35 32]\n",
      "Exponential : [ 148.4131591   403.42879349 1096.63315843 2980.95798704]\n",
      "Squareroot : [2.23606798 2.44948974 2.64575131 2.82842712]\n",
      "Sin : [-0.95892427 -0.2794155   0.6569866   0.98935825]\n",
      "Cos : [ 0.28366219  0.96017029  0.75390225 -0.14550003]\n",
      "Log : [1.60943791 1.79175947 1.94591015 2.07944154]\n"
     ]
    }
   ],
   "source": [
    "n4 = np.array([5,6,7,8])\n",
    "\n",
    "print(\"Sum : {}\".format(np.add(n4,n1))) #Addition\n",
    "print(\"Sub : {}\".format(np.subtract(n4,n1))) #Subtreaction\n",
    "print(\"Division : {}\".format(np.divide(n4,n1))) #Division\n",
    "print(\"Multiply : {}\".format(np.multiply(n4,n1))) #Multiplication\n",
    "print(\"Exponential : {}\".format(np.exp(n4))) #Exponential\n",
    "print(\"Squareroot : {}\".format(np.sqrt(n4))) #Squareroot\n",
    "print(\"Sin : {}\".format(np.sin(n4))) #Sin Function\n",
    "print(\"Cos : {}\".format(np.cos(n4))) #Cos Function\n",
    "print(\"Log : {}\".format(np.log(n4))) # Log Function"
   ]
  },
  {
   "cell_type": "markdown",
   "metadata": {},
   "source": [
    "##NUMPY EXERCISES"
   ]
  },
  {
   "cell_type": "markdown",
   "metadata": {},
   "source": [
    "##1.Program to know numpy version and configuration"
   ]
  },
  {
   "cell_type": "code",
   "execution_count": 76,
   "metadata": {},
   "outputs": [
    {
     "name": "stdout",
     "output_type": "stream",
     "text": [
      "1.23.3\n",
      "openblas64__info:\n",
      "    library_dirs = ['D:\\\\a\\\\numpy\\\\numpy\\\\build\\\\openblas64__info']\n",
      "    libraries = ['openblas64__info']\n",
      "    language = f77\n",
      "    define_macros = [('HAVE_CBLAS', None), ('BLAS_SYMBOL_SUFFIX', '64_'), ('HAVE_BLAS_ILP64', None)]\n",
      "blas_ilp64_opt_info:\n",
      "    library_dirs = ['D:\\\\a\\\\numpy\\\\numpy\\\\build\\\\openblas64__info']\n",
      "    libraries = ['openblas64__info']\n",
      "    language = f77\n",
      "    define_macros = [('HAVE_CBLAS', None), ('BLAS_SYMBOL_SUFFIX', '64_'), ('HAVE_BLAS_ILP64', None)]\n",
      "openblas64__lapack_info:\n",
      "    library_dirs = ['D:\\\\a\\\\numpy\\\\numpy\\\\build\\\\openblas64__lapack_info']\n",
      "    libraries = ['openblas64__lapack_info']\n",
      "    language = f77\n",
      "    define_macros = [('HAVE_CBLAS', None), ('BLAS_SYMBOL_SUFFIX', '64_'), ('HAVE_BLAS_ILP64', None), ('HAVE_LAPACKE', None)]\n",
      "lapack_ilp64_opt_info:\n",
      "    library_dirs = ['D:\\\\a\\\\numpy\\\\numpy\\\\build\\\\openblas64__lapack_info']\n",
      "    libraries = ['openblas64__lapack_info']\n",
      "    language = f77\n",
      "    define_macros = [('HAVE_CBLAS', None), ('BLAS_SYMBOL_SUFFIX', '64_'), ('HAVE_BLAS_ILP64', None), ('HAVE_LAPACKE', None)]\n",
      "Supported SIMD extensions in this NumPy install:\n",
      "    baseline = SSE,SSE2,SSE3\n",
      "    found = SSSE3,SSE41,POPCNT,SSE42,AVX,F16C,FMA3,AVX2,AVX512F,AVX512CD,AVX512_SKX,AVX512_CLX,AVX512_CNL,AVX512_ICL\n",
      "    not found = \n",
      "None\n"
     ]
    }
   ],
   "source": [
    "print(np.__version__) #To know version\n",
    "print(np.show_config()) #To know Configuration\n"
   ]
  },
  {
   "cell_type": "markdown",
   "metadata": {},
   "source": [
    "##2.Program to test whether none of the elements of a given array is zero."
   ]
  },
  {
   "cell_type": "code",
   "execution_count": 77,
   "metadata": {},
   "outputs": [
    {
     "name": "stdout",
     "output_type": "stream",
     "text": [
      "Original array : [1 2 5 4]\n",
      "To test Whether 0 is present or not\n",
      "True\n",
      "No..0 is not present in the array\n"
     ]
    }
   ],
   "source": [
    "print(\"Original array : {}\".format(n1))\n",
    "print(\"To test Whether 0 is present or not\")\n",
    "print(np.all(n1)) # test an array elements evaluate to false.\n",
    "if(np.all(n1)==True):\n",
    "    print(\"No..0 is not present in the array\")\n",
    "else:\n",
    "    print(\"Yes..0 is present in the array\")"
   ]
  },
  {
   "cell_type": "markdown",
   "metadata": {},
   "source": [
    "##3.Program to test whether any of the elements of a given array is non-zero."
   ]
  },
  {
   "cell_type": "code",
   "execution_count": 78,
   "metadata": {},
   "outputs": [
    {
     "name": "stdout",
     "output_type": "stream",
     "text": [
      "Original array : [[1 6]\n",
      " [8 4]]\n",
      "Test whether any of the elements of a given array is non-zero:\n",
      "True\n",
      "Yes..Non-zero element is present\n"
     ]
    }
   ],
   "source": [
    "print(\"Original array : {}\".format(n2))\n",
    "print(\"Test whether any of the elements of a given array is non-zero:\")\n",
    "print(np.any(n2)) # test an array elements evaluate to True.\n",
    "if(np.all(n2)==True):\n",
    "    print(\"Yes..Non-zero element is present\")\n",
    "else:\n",
    "    print(\"No..Non-zero element is not present\")"
   ]
  },
  {
   "cell_type": "markdown",
   "metadata": {},
   "source": [
    "##4.Program to test a given array element-wise for finiteness (not infinity or not a Number)."
   ]
  },
  {
   "cell_type": "code",
   "execution_count": 79,
   "metadata": {},
   "outputs": [
    {
     "name": "stdout",
     "output_type": "stream",
     "text": [
      "Original array : [[1 6]\n",
      " [8 4]]\n",
      "Test a given array element-wise for finiteness:\n",
      "[[ True  True]\n",
      " [ True  True]]\n"
     ]
    }
   ],
   "source": [
    "print(\"Original array : {}\".format(n2))\n",
    "print(\"Test a given array element-wise for finiteness:\")\n",
    "print(np.isfinite(n2)) "
   ]
  },
  {
   "cell_type": "markdown",
   "metadata": {},
   "source": [
    "##5.Aggregate Functions"
   ]
  },
  {
   "cell_type": "code",
   "execution_count": 80,
   "metadata": {},
   "outputs": [
    {
     "name": "stdout",
     "output_type": "stream",
     "text": [
      "Sum : 12\n",
      "Min : 1\n",
      "Max : 5\n",
      "Mean : 3.0\n",
      "Median : 3.0\n",
      "Correlation Coefficient : 1.0\n",
      "Standard Deviation : 1.5811388300841898\n"
     ]
    }
   ],
   "source": [
    "print(\"Sum : {}\".format(np.sum(n1))) #Sum\n",
    "print(\"Min : {}\".format(np.min(n1))) #Minimum\n",
    "print(\"Max : {}\".format(np.max(n1))) #Maximum\n",
    "print(\"Mean : {}\".format(np.mean(n1))) #Mean\n",
    "print(\"Median : {}\".format(np.median(n1))) #Median\n",
    "print(\"Correlation Coefficient : {}\".format(np.corrcoef(n1))) #Correletion Coefficient\n",
    "print(\"Standard Deviation : {}\".format(np.std(n1))) #Standard Deviation\n"
   ]
  },
  {
   "cell_type": "markdown",
   "metadata": {},
   "source": [
    "##6.Copying an Arrays"
   ]
  },
  {
   "cell_type": "code",
   "execution_count": 81,
   "metadata": {},
   "outputs": [
    {
     "name": "stdout",
     "output_type": "stream",
     "text": [
      "Copied to n3 = [1 2 5 4]\n"
     ]
    }
   ],
   "source": [
    "n3 = n1.view() #Viewing an Array\n",
    "np.copy(n1) #Copying a Array\n",
    "n3 = n1.copy() #Assigning a variable\n",
    "print(\"Copied to n3 = {}\".format(n3)) #print"
   ]
  },
  {
   "cell_type": "markdown",
   "metadata": {},
   "source": [
    "##7.Sorting Arrays"
   ]
  },
  {
   "cell_type": "code",
   "execution_count": 82,
   "metadata": {},
   "outputs": [
    {
     "name": "stdout",
     "output_type": "stream",
     "text": [
      "[1 2 4 5]\n",
      "[[1 6]\n",
      " [4 8]]\n"
     ]
    }
   ],
   "source": [
    "print(np.sort(n1)) #Sorting\n",
    "print(np.sort(n2))"
   ]
  }
 ],
 "metadata": {
  "kernelspec": {
   "display_name": "Python 3.10.4 64-bit",
   "language": "python",
   "name": "python3"
  },
  "language_info": {
   "codemirror_mode": {
    "name": "ipython",
    "version": 3
   },
   "file_extension": ".py",
   "mimetype": "text/x-python",
   "name": "python",
   "nbconvert_exporter": "python",
   "pygments_lexer": "ipython3",
   "version": "3.10.4"
  },
  "orig_nbformat": 4,
  "vscode": {
   "interpreter": {
    "hash": "d07c568c779254e5cac6c3a8736a5d50775e0c4369087e007d6c63bc840985ed"
   }
  }
 },
 "nbformat": 4,
 "nbformat_minor": 2
}
